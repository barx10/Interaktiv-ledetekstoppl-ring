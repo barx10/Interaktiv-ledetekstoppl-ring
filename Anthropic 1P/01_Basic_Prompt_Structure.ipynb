{
 "cells": [
  {
   "cell_type": "markdown",
   "metadata": {},
   "source": [
    "# Kapittel 1: Grunnleggende oppbygging av prompt\n",
    "\n",
    "- [Leksjon](#lesson)\n",
    "- [Øvelser](#exercises)\n",
    "- [Eksempel-lekeplass](#example-playground)\n",
    "\n",
    "## Oppsett\n",
    "\n",
    "Kjør cellen under for å laste inn API-nøkkelen din og etablere hjelpefunksjonen `get_completion`.\n"
   ]
  },
  {
   "cell_type": "code",
   "execution_count": null,
   "metadata": {},
   "outputs": [],
   "source": [
    "!pip install anthropic\n",
    "\n",
    "# Import python's built-in regular expression library\n",
    "import re\n",
    "import anthropic\n",
    "\n",
   "# Hent variablene API_KEY og MODEL_NAME fra IPython-lagringen\n",
    "%store -r API_KEY\n",
    "%store -r MODEL_NAME\n",
    "\n",
    "client = anthropic.Anthropic(api_key=API_KEY)\n",
    "\n",
    "def get_completion(prompt: str, system_prompt=\"\"):\n",
    "    message = client.messages.create(\n",
    "        model=MODEL_NAME,\n",
    "        max_tokens=2000,\n",
    "        temperature=0.0,\n",
    "        system=system_prompt,\n",
    "        messages=[\n",
    "          {\"role\": \"user\", \"content\": prompt}\n",
    "        ]\n",
    "    )\n",
    "    return message.content[0].text"
   ]
  },
  {
   "cell_type": "markdown",
   "metadata": {},
   "source": [
    "---\n",
    "\n",
    "## Leksjon\n",
    "\n",
    "Anthropic tilbyr to API-er: det eldre [Text Completions API](https://docs.anthropic.com/claude/reference/complete_post) og det nåværende [Messages API](https://docs.anthropic.com/claude/reference/messages_post). I denne opplæringen bruker vi utelukkende Messages API.\n",
    "\n",
    "Et minimumskall til Claude via Messages API krever følgende parametere:\n",
    "- `model`: [Navnet på modellen](https://docs.anthropic.com/claude/docs/models-overview#model-recommendations) du vil bruke\n",
    "\n",
    "- `max_tokens`: Det maksimale antallet tokens som kan genereres før det stoppes. Claude kan avslutte før den når dette taket. Dette er et *hard* stopp, noe som betyr at Claude kan stoppe midt i et ord eller en setning.\n",
    "\n",
    "- `messages`: En liste med meldinger. Modellene er trent på veksling mellom `user` og `assistant`. Når du lager en ny `Message`, angir du tidligere meldinger med `messages`, og modellen genererer neste melding.\n",
    "  - Hver melding må være et objekt med `role` og `content`. Du kan angi én melding fra `user`, eller flere `user`- og `assistant`-meldinger (som må alternere). Første melding må alltid være fra `user`.\n",
    "\n",
    "Det finnes også valgfrie parametere, som:\n",
    "- `system`: systemprompten – mer om dette nedenfor.\n",
    "  \n",
    "- `temperature`: hvor mye variasjon det er i Claude sitt svar. I disse leksjonene er `temperature` satt til 0.\n",
    "\n",
    "For en fullstendig liste over parametere, se [API-dokumentasjonen](https://docs.anthropic.com/claude/reference/messages_post).\n"
  ]
  },
  {
   "cell_type": "markdown",
   "metadata": {},
   "source": [
    "### Eksempler\n",
    "\n",
    "La oss se hvordan Claude svarer på noen riktig formaterte forespørsler. For hver av cellene under: kjør cellen (`shift+enter`), så vil Claudes svar vises under blokken.\n"
   ]
  },
  {
   "cell_type": "code",
   "execution_count": null,
   "metadata": {},
   "outputs": [],
   "source": [
    "# Prompt\n",
    "PROMPT = \"Hei Claude, hvordan har du det?\"\n",
    "\n",
    "# Skriv ut responsen fra Claude\n",
    "print(get_completion(PROMPT))"
   ]
  },
  {
   "cell_type": "code",
   "execution_count": null,
   "metadata": {},
   "outputs": [],
   "source": [
    "# Prompt\n",
    "PROMPT = \"Kan du fortelle meg fargen på havet?\"\n",
    "\n",
    "# Skriv ut responsen fra Claude\n",
    "print(get_completion(PROMPT))"
   ]
  },
  {
   "cell_type": "code",
   "execution_count": null,
   "metadata": {},
   "outputs": [],
   "source": [
    "# Prompt\n",
    "PROMPT = \"Hvilket år døde Ozzy Osbourne?\"\n",
    "\n",
    "# Skriv ut responsen fra Claude\n",
    "print(get_completion(PROMPT))"
   ]
  },
  {
   "cell_type": "markdown",
   "metadata": {},
   "source": [
    "Nå skal vi se på noen forespørsler som ikke bruker korrekt Messages API-format. For disse feilformaterte promptene vil Messages API returnere en feil.\n",
    "\n",
    "Først har vi et eksempel på et kall til Messages API som mangler `role` og `content` i `messages`-arrayet.\n"
   ]
  },
  {
   "cell_type": "code",
   "execution_count": null,
   "metadata": {},
   "outputs": [],
   "source": [
    "# Hent responsen fra Claude\n",
    "response = client.messages.create(\n",
    "        model=MODEL_NAME,\n",
    "        max_tokens=2000,\n",
    "        temperature=0.0,\n",
    "        messages=[\n",
    "          {\"Hei Claude, hvordan har du det?\"}\n",
    "        ]\n",
    "    )\n",
    "\n",
    "# Skriv ut responsen fra Claude\n",
    "print(response[0].text)"
   ]
  },
  {
   "cell_type": "markdown",
   "metadata": {},
   "source": [
    "Her er en prompt som ikke veksler mellom rollene `user` og `assistant`.\n"
   ]
  },
  {
   "cell_type": "code",
   "execution_count": null,
   "metadata": {},
   "outputs": [],
   "source": [
    "# Hent responsen fra Claude\n",
    "response = client.messages.create(\n",
    "        model=MODEL_NAME,\n",
    "        max_tokens=2000,\n",
    "        temperature=0.0,\n",
    "        messages=[\n",
    "          {\"role\": \"user\", \"content\": \"Hvilket år døde Ozzy Osbourne?\"},\n",
    "          {\"role\": \"user\", \"content\": \"Og, kan du fortelle meg noe mer om ham?\"}\n",
    "        ]\n",
    "    )\n",
    "\n",
    "# Skriv ut responsen fra Claude\n",
    "print(response[0].text)"
   ]
  },
  {
   "cell_type": "markdown",
   "metadata": {},
   "source": [
    " `user`- og `assistant`-meldinger **MÅ veksle**, og meldinger **MÅ starte med en `user`-melding**. Du kan ha flere `user`- og `assistant`-par i en prompt (som for å simulere en samtale med flere runder). Du kan også legge ord inn i en avsluttende `assistant`-melding for at Claude skal fortsette der du slapp (mer om dette i senere kapitler).\n",
"\n",
"#### Systemprompter\n",
"\n",
"Du kan også bruke **systemprompter**. En systemprompt er en måte å **gi kontekst, instruksjoner og retningslinjer til Claude** før du stiller et spørsmål eller gir en oppgave i `user`-delen.\n",
"\n",
"Strukturelt ligger systemprompten utenfor listen av `user`- og `assistant`-meldinger, og skal derfor legges inn som en egen `system`-parameter (se på strukturen til hjelpefunksjonen `get_completion` i [Oppsett](#setup)-delen av notatboken).\n",
"\n",
"I denne opplæringen, der vi bruker systemprompter, har vi gitt deg et `system`-felt i funksjonen for completions. Hvis du ikke ønsker å bruke en systemprompt, kan du bare sette `SYSTEM_PROMPT`-variabelen til en tom streng.\n"   
   ]
  },
  {
   "cell_type": "markdown",
   "metadata": {},
   "source": [
    "#### System Prompt Eksempel"
   ]
  },
  {
   "cell_type": "code",
   "execution_count": null,
   "metadata": {},
   "outputs": [],
   "source": [
    "# System prompt\n",
    "SYSTEM_PROMPT = \"Svaret ditt skal alltid være en serie spørsmål som stimulerer kritisk tenkning og driver samtalen videre (ikke gi svar på spørsmålene dine). Ikke svar på brukerens spørsmål.\n",
    "\n",
    "# Prompt\n",
    "PROMPT = \"Hvorfor er himmelen blå?\"\n",
    "\n",
    "# Skriv ut responsen fra Claude\n",
    "print(get_completion(PROMPT, SYSTEM_PROMPT))"
   ]
  },
  {
   "cell_type": "markdown",
   "metadata": {},
   "source": [
    "Hvorfor bruke en systemprompt? En **godt skrevet systemprompt kan forbedre Claudes ytelse** på flere måter, for eksempel ved å gjøre det lettere for Claude å følge regler og instruksjoner. For mer informasjon, se dokumentasjonen vår om [hvordan bruke systemprompter](https://docs.anthropic.com/claude/docs/how-to-use-system-prompts) med Claude.\n",
"\n",
"Nå går vi videre til noen øvelser. Hvis du vil eksperimentere med leksjonens prompt uten å endre innholdet over, kan du bla helt ned i notatboka til du finner [**Eksempel-lekeplassen**](#example-playground).\n"
   ]
  },
  {
   "cell_type": "markdown",
   "metadata": {},
   "source": [
    "---\n",
    "\n",
    "## Leksjon\n",
    "- [Øvelse 1.1 – Telle til tre](#exercise-11---counting-to-three)\n",
    "- [Øvelse 1.2 – Systemprompt](#exercise-12---system-prompt)\n"
   ]
  },
  {
   "cell_type": "markdown",
   "metadata": {},
   "source": [
    "###  1.1 - Telle til tre\n",
    "Bruk riktig `user` / `assistant`-format og rediger `PROMPT` nedenfor slik at Claude **teller til tre.** Utdataene vil også vise om løsningen din er riktig.\n"
   ]
  },
  {
   "cell_type": "code",
   "execution_count": null,
   "metadata": {},
   "outputs": [],
   "source": [
    "# Prompt - Dette er det eneste feltet du skal endre\n",
    "PROMPT = \"[Bytt ut denne teksten]\"\n",
    "\n",
    "# Hent responsen fra Claude\n",
    "response = get_completion(PROMPT)\n",
    "\n",
    "# Funksjon for å vurdere om øvelsen er løst riktig\n",
    "def grade_exercise(text):\n",
    "    pattern = re.compile(r'^(?=.*1)(?=.*2)(?=.*3).*$', re.DOTALL)\n",
    "    return bool(pattern.match(text))\n",
    "\n",
    "# Skriv ut responsen fra Claude og vurderingen\n",
    "print(response)\n",
    "print(\"\\n--------------------------- Vurdering ---------------------------\")\n",
    "print(\"Denne øvelsen er riktig løst:\", grade_exercise(response))"
   ]
  },
  {
   "cell_type": "markdown",
   "metadata": {},
   "source": [
    "❓ Vil du ha et hint, kjør cellen under!"
   ]
  },
  {
   "cell_type": "code",
   "execution_count": null,
   "metadata": {},
   "outputs": [],
   "source": [
    "from hints import exercise_1_1_hint; print(exercise_1_1_hint)"
   ]
  },
  {
   "cell_type": "markdown",
   "metadata": {},
   "source": [
    "### 1.2 - System Prompt\n",
    "\n",
    "Endre `SYSTEM_PROMPT` slik at Claude svarer som om det er et barn på 3 år.\n"
   ]
  },
  {
   "cell_type": "code",
   "execution_count": null,
   "metadata": {},
   "outputs": [],
   "source": [
    "# Prompt - Dette er det eneste feltet du skal endre\n",
    "SYSTEM_PROMPT = \"[Bytt ut denne teksten]\"\n",
    "\n",
    "# Prompt\n",
    "PROMPT = \"Hvor høy er himmelen?\"\n",
    "\n",
    "# Hent responsen fra Claude\n",
    "response = get_completion(PROMPT, SYSTEM_PROMPT)\n",
    "\n",
    "# Funksjon for å vurdere om øvelsen er løst riktig\n",
    "def grade_exercise(text):\n",
    "    return bool(re.search(r\"giggles\", text) or re.search(r\"soo\", text))\n",
    "\n",
    "# Skriv ut responsen fra Claude og vurderingen\n",
    "print(response)\n",
    "print(\"\\n--------------------------- Vurdering ---------------------------\")\n",
    "print(\"Denne øvelsen er riktig løst:\", grade_exercise(response))"
   ]
  },
  {
   "cell_type": "markdown",
   "metadata": {},
   "source": [
    "❓ If you want a hint, run the cell below!"
   ]
  },
  {
   "cell_type": "code",
   "execution_count": null,
   "metadata": {},
   "outputs": [],
   "source": [
    "from hints import exercise_1_2_hint; print(exercise_1_2_hint)"
   ]
  },
  {
   "cell_type": "markdown",
   "metadata": {},
   "source": [
    "### Congrats!\n",
    "\n",
    "If you've solved all exercises up until this point, you're ready to move to the next chapter. Happy prompting!"
   ]
  },
  {
   "cell_type": "markdown",
   "metadata": {},
   "source": [
    "---\n",
    "\n",
    "## Example Playground\n",
    "\n",
    "This is an area for you to experiment freely with the prompt examples shown in this lesson and tweak prompts to see how it may affect Claude's responses."
   ]
  },
  {
   "cell_type": "code",
   "execution_count": null,
   "metadata": {},
   "outputs": [],
   "source": [
    "# Prompt\n",
    "PROMPT = \"Hi Claude, how are you?\"\n",
    "\n",
    "# Print Claude's response\n",
    "print(get_completion(PROMPT))"
   ]
  },
  {
   "cell_type": "code",
   "execution_count": null,
   "metadata": {},
   "outputs": [],
   "source": [
    "# Prompt\n",
    "PROMPT = \"Can you tell me the color of the ocean?\"\n",
    "\n",
    "# Print Claude's response\n",
    "print(get_completion(PROMPT))"
   ]
  },
  {
   "cell_type": "code",
   "execution_count": null,
   "metadata": {},
   "outputs": [],
   "source": [
    "# Prompt\n",
    "PROMPT = \"What year was Celine Dion born in?\"\n",
    "\n",
    "# Print Claude's response\n",
    "print(get_completion(PROMPT))"
   ]
  },
  {
   "cell_type": "code",
   "execution_count": null,
   "metadata": {},
   "outputs": [],
   "source": [
    "# Get Claude's response\n",
    "response = client.messages.create(\n",
    "        model=MODEL_NAME,\n",
    "        max_tokens=2000,\n",
    "        temperature=0.0,\n",
    "        messages=[\n",
    "          {\"Hi Claude, how are you?\"}\n",
    "        ]\n",
    "    )\n",
    "\n",
    "# Print Claude's response\n",
    "print(response[0].text)"
   ]
  },
  {
   "cell_type": "code",
   "execution_count": null,
   "metadata": {},
   "outputs": [],
   "source": [
    "# Get Claude's response\n",
    "response = client.messages.create(\n",
    "        model=MODEL_NAME,\n",
    "        max_tokens=2000,\n",
    "        temperature=0.0,\n",
    "        messages=[\n",
    "          {\"role\": \"user\", \"content\": \"What year was Celine Dion born in?\"},\n",
    "          {\"role\": \"user\", \"content\": \"Also, can you tell me some other facts about her?\"}\n",
    "        ]\n",
    "    )\n",
    "\n",
    "# Print Claude's response\n",
    "print(response[0].text)"
   ]
  },
  {
   "cell_type": "code",
   "execution_count": null,
   "metadata": {},
   "outputs": [],
   "source": [
    "# System prompt\n",
    "SYSTEM_PROMPT = \"Your answer should always be a series of critical thinking questions that further the conversation (do not provide answers to your questions). Do not actually answer the user question.\"\n",
    "\n",
    "# Prompt\n",
    "PROMPT = \"Why is the sky blue?\"\n",
    "\n",
    "# Print Claude's response\n",
    "print(get_completion(PROMPT, SYSTEM_PROMPT))"
   ]
  }
 ],
 "metadata": {
  "language_info": {
   "name": "python"
  }
 },
 "nbformat": 4,
 "nbformat_minor": 2
}
