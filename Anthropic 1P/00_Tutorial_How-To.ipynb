{
 "cells": [
  {
   "cell_type": "markdown",
   "metadata": {},
   "source": [
    "# Opplæringsveiledning\n",
    "\n",
    "Denne veiledningen **krever en API-nøkkel** for å fungere. Hvis du ikke har en API-nøkkel, kan du registrere deg for en via [Anthropic Console](https://console.anthropic.com/) eller se vår [statisk svarnøkkel for opplæringen](https://docs.google.com/spreadsheets/u/0/d/1jIxjzUWG-6xBVIa2ay6yDpLyeuOh_hR_ZB75a47KX_E/edit) i stedet."
   ]
  },
  {
   "cell_type": "markdown",
   "metadata": {},
   "source": [
    "## Slik kommer du i gang\n",
    "\n",
    "1. Klon dette repositoriet til din lokale maskin.\n",
    "\n",
    "2. Installer nødvendige avhengigheter ved å kjøre følgende kommando:\n",
    " "
   ]
  },
  {
   "cell_type": "code",
   "execution_count": null,
   "metadata": {},
   "outputs": [],
   "source": [
    "!pip install anthropic"
   ]
  },
  {
   "cell_type": "markdown",
   "metadata": {},
   "source": [
    "3. Sett opp din API-nøkkel og modellnavn. Erstatt `\"your_api_key_here\"` med din faktiske Anthropic API-nøkkel."
   ]
  },
  {
   "cell_type": "code",
   "execution_count": null,
   "metadata": {},
   "outputs": [],
   "source": [
    "API_KEY = \"your_api_key_here\"\n",
    "MODEL_NAME = \"claude-3-haiku-20240307\"\n",
    "\n",
    "# Lagrer variablene API_KEY og MODEL_NAME for bruk i notatbøkene via IPython store\n",
    "%store API_KEY\n",
    "%store MODEL_NAME"
   ]
  },
  {
   "cell_type": "markdown",
   "metadata": {},
   "source": [
    "4. Kjør cellene i notatboken i rekkefølge, og følg instruksjonene."
   ]
  },
  {
   "cell_type": "markdown",
   "metadata": {},
   "source": [
    "---\n",
    "\n",
    "## Brukstips 💡\n",
    "\n",
    "- Dette kurset bruker Claude 3 Haiku med temperatur 0. Vi skal snakke mer om temperatur senere i kurset. Foreløpig er det nok å vite at disse innstillingene gir mer forutsigbare svar. Alle teknikker for prompt-utforming i dette kurset gjelder også for tidligere generasjoner av Claude-modeller som Claude 2 og Claude Instant 1.2.\n",
    "\n",
    "- Du kan bruke `Shift + Enter` for å kjøre en celle og gå videre til neste.\n",
    "\n",
    "- Når du kommer til bunnen av en opplæringsside, naviger til neste nummererte fil i mappen, eller til neste nummererte mappe hvis du er ferdig med innholdet i det kapitlet.\n",
    "\n",
    "### Anthropic SDK og Meldings-API\n",
    "Vi bruker [Anthropic Python SDK](https://docs.anthropic.com/claude/reference/client-sdks) og [Messages API](https://docs.anthropic.com/claude/reference/messages_post) gjennom hele veiledningen. \n",
    "\n",
    "Under er et eksempel på hvordan kjøring av en prompt ser ut i dette kurset. Først lager vi `get_completion`, en hjelpefunksjon som sender en prompt til Claude og returnerer Claudes genererte svar. Kjør den cellen nå."
   ]
  },
  {
   "cell_type": "code",
   "execution_count": null,
   "metadata": {},
   "outputs": [],
   "source": [
    "import anthropic\n",
    "\n",
    "client = anthropic.Anthropic(api_key=API_KEY)\n",
    "\n",
    "def get_completion(prompt: str):\n",
    "    message = client.messages.create(\n",
    "        model=MODEL_NAME,\n",
    "        max_tokens=2000,\n",
    "        temperature=0.0,\n",
    "        messages=[\n",
    "          {\"role\": \"user\", \"content\": prompt}\n",
    "        ]\n",
    "    )\n",
    "    return message.content[0].text"
   ]
  },
  {
   "cell_type": "markdown",
   "metadata": {},
   "source": [
    "Nå skal vi skrive en eksempelprompt til Claude og skrive ut Claudes svar ved å kjøre `get_completion`-funksjonen. Kjør cellen nedenfor for å vise Claudes svar.\n",
    "\n",
    "Prøv gjerne å endre på teksten i prompten for å se hvordan Claude svarer forskjellig."
   ]
  },
  {
   "cell_type": "code",
   "execution_count": null,
   "metadata": {},
   "outputs": [],
   "source": [
    "# Prompt\n",
    "prompt = \"Hello, Claude!\"\n",
    "\n",
    "# Hent Claudes svar\n",
    "print(get_completion(prompt))"
   ]
  },
  {
   "cell_type": "markdown",
   "metadata": {},
   "source": [
    "Variablene `API_KEY` og `MODEL_NAME` som vi definerte tidligere vil bli brukt gjennom hele veiledningen. Pass på å kjøre cellene for hver side i opplæringen fra topp til bunn."
   ]
  }
 ],
 "metadata": {
  "kernelspec": {
   "display_name": "py310",
   "language": "python",
   "name": "python3"
  },
  "language_info": {
   "codemirror_mode": {
    "name": "ipython",
    "version": 3
   },
   "file_extension": ".py",
   "mimetype": "text/x-python",
   "name": "python",
   "nbconvert_exporter": "python",
   "pygments_lexer": "ipython3",
   "version": "3.10.14"
  }
 },
 "nbformat": 4,
 "nbformat_minor": 2
}

