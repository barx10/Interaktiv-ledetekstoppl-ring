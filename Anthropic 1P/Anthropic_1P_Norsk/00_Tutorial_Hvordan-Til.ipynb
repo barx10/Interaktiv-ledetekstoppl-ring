{
  "cells": [
    {
      "cell_type": "markdown",
      "metadata": {},
      "source": [
        "# Tutorial Hvordan-Til\n",
        "\n",
        "This tutorial **requires an API-nøkkel** for interaction. If you don't have an API-nøkkel, you can sign up for one via the [Anthropic Console](https://console.anthropic.com/) or view our [static tutorial answer key](https://docs.google.com/spreadsheets/u/0/d/1jIxjzUWG-6xBVIa2ay6yDpLyeuOh_hR_ZB75a47KX_E/edit) instead."
      ]
    },
    {
      "cell_type": "markdown",
      "metadata": {},
      "source": [
        "## Hvordan komme i gang\n",
        "\n",
        "1. Klon dette repository to your lokal maskin.\n",
        "\n",
        "2. Installer de nødvendige avhengighetene by running the following command:\n",
        " "
      ]
    },
    {
      "cell_type": "code",
      "execution_count": null,
      "metadata": {},
      "outputs": [],
      "source": [
        "!pip install anthropic"
      ]
    },
    {
      "cell_type": "markdown",
      "metadata": {},
      "source": [
        "3. Set up your API-nøkkel and modellnavn. Erstatt `\"your_api_key_here\"` med din faktiske Anthropic API-nøkkel."
      ]
    },
    {
      "cell_type": "code",
      "execution_count": null,
      "metadata": {},
      "outputs": [],
      "source": [
        "API_KEY = \"your_api_key_here\"\n",
        "MODEL_NAME = \"claude-3-haiku-20240307\"\n",
        "\n",
        "# Stores the API_KEY & MODEL_NAME variables for use across notebooks within the IPython store\n",
        "%store API_KEY\n",
        "%store MODEL_NAME"
      ]
    },
    {
      "cell_type": "markdown",
      "metadata": {},
      "source": [
        "4. Kjør notatbok-cellene i rekkefølge, følg instruksjonene gitt."
      ]
    },
    {
      "cell_type": "markdown",
      "metadata": {},
      "source": [
        "---\n",
        "\n",
        "## Bruknoter og Tips 💡\n",
        "\n",
        "- This course uses Claude 3 Haiku with temperatur 0. We will talk more about temperatur later in the course. For now, it's enough to understand that these settings yield more deterministiske resultater. All prompt engineering teknikker in this course also apply to previous generation eldre Claude-modeller such as Claude 2 and Claude Instant 1.2.\n",
        "\n",
        "- You can use `Shift + Enter` to kjøre cellen and gå til neste.\n",
        "\n",
        "- When you reach the bottom of a tutorial page, naviger til the next nummerert fil in the folder, or to the next nummerert mappe if you're ferdig med the innhold innenfor that kapittelfil.\n",
        "\n",
        "### Anthropic SDK og Messages API\n",
        "We will be using the [Anthropic python SDK](https://docs.anthropic.com/claude/reference/client-sdks) and the [Messages API](https://docs.anthropic.com/claude/reference/messages_post) throughout this tutorial. \n",
        "\n",
        "Below is an example of what running a prompt will look like in this tutorial. First, we create `get_completion`, which is a hjelpefunksjon that sender en prompt to Claude and returnerer Claude's genererte svar. Kjør den cellen nå."
      ]
    },
    {
      "cell_type": "code",
      "execution_count": null,
      "metadata": {},
      "outputs": [],
      "source": [
        "import anthropic\n",
        "\n",
        "client = anthropic.Anthropic(api_key=API_KEY)\n",
        "\n",
        "def get_completion(prompt: str):\n",
        "    message = client.messages.create(\n",
        "        model=MODEL_NAME,\n",
        "        max_tokens=2000,\n",
        "        temperature=0.0,\n",
        "        messages=[\n",
        "          {\"role\": \"user\", \"content\": prompt}\n",
        "        ]\n",
        "    )\n",
        "    return message.content[0].text"
      ]
    },
    {
      "cell_type": "markdown",
      "metadata": {},
      "source": [
        "Nå skal vi skrive ut an eksempel prompt for Claude and skrive ut Claude's output ved å kjøre vår `get_completion` hjelpefunksjon. Kjør cellen nedenfor vil skrive ut a response fra Claude under den.\n",
        "\n",
        "Du kan gjerne eksperimentere med the prompt string for å få forskjellige svar fra Claude."
      ]
    },
    {
      "cell_type": "code",
      "execution_count": null,
      "metadata": {},
      "outputs": [],
      "source": [
        "# Prompt\n",
        "prompt = \"Hello, Claude!\"\n",
        "\n",
        "# Get Claude's response\n",
        "print(get_completion(prompt))"
      ]
    },
    {
      "cell_type": "markdown",
      "metadata": {},
      "source": [
        "The `API_KEY` and `MODEL_NAME` variabler definert tidligere vil bli brukt gjennom tutorialen. Bare sørg for å kjøre cellene for hver tutorial-side fra topp til bunn."
      ]
    }
  ],
  "metadata": {
    "kernelspec": {
      "display_name": "py310",
      "language": "python",
      "name": "python3"
    },
    "language_info": {
      "codemirror_mode": {
        "name": "ipython",
        "version": 3
      },
      "file_extension": ".py",
      "mimetype": "text/x-python",
      "name": "python",
      "nbconvert_exporter": "python",
      "pygments_lexer": "ipython3",
      "version": "3.10.14"
    }
  },
  "nbformat": 4,
  "nbformat_minor": 2
}