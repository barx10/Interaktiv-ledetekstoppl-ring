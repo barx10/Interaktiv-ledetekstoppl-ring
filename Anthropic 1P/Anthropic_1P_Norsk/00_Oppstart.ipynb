{
  "cells": [
    {
      "cell_type": "markdown",
      "metadata": {},
      "source": [
        "# Tutorial Hvordan-Til",
        "",
        "Denne tutorialen **krever en API-nøkkel** for interaksjon. Hvis du ikke har en API-nøkkel, kan du registrere deg for en via [Anthropic Console](https://console.anthropic.com/) eller se vår [statisk tutorial svarnøkkel](https://docs.google.com/spreadsheets/u/0/d/1jIxjzUWG-6xBVIa2ay6yDpLyeuOh_hR_ZB75a47KX_E/edit) i stedet."
      ]
    },
    {
      "cell_type": "markdown",
      "metadata": {},
      "source": [
        "## Hvordan komme i gang",
        "",
        "1. Klon dette repository til din lokale maskin.",
        "",
        "2. Installer de nødvendige avhengighetene ved å kjøre følgende kommando:",
        " "
      ]
    },
    {
      "cell_type": "code",
      "execution_count": null,
      "metadata": {},
      "outputs": [],
      "source": [
        "!pip install anthropic"
      ]
    },
    {
      "cell_type": "markdown",
      "metadata": {},
      "source": [
        "3. Sett opp din API-nøkkel og modellnavn. Erstatt `\"your_api_key_here\"` med din faktiske Anthropic API-nøkkel."
      ]
    },
    {
      "cell_type": "code",
      "execution_count": null,
      "metadata": {},
      "outputs": [],
      "source": [
        "API_KEY = \"your_api_key_here\"\n",
        "MODEL_NAME = \"claude-3-haiku-20240307\"\n",
        "\n",
        "# Stores the API_KEY & MODEL_NAME variables for use across notebooks within the IPython store\n",
        "%store API_KEY\n",
        "%store MODEL_NAME"
      ]
    },
    {
      "cell_type": "markdown",
      "metadata": {},
      "source": [
        "4. Kjør notatbok-cellene i rekkefølge, følg instruksjonene gitt."
      ]
    },
    {
      "cell_type": "markdown",
      "metadata": {},
      "source": [
        "---",
        "",
        "## Bruknoter og Tips 💡",
        "",
        "- Dette kurset bruker Claude 3 Haiku med temperatur 0. Vi vil snakke mer om temperatur senere i kurset. For nå er det nok å forstå at disse innstillingene gir mer deterministiske resultater. Alle prompt engineering teknikker i dette kurset gjelder også for tidligere generasjoner av eldre Claude-modeller som Claude 2 og Claude Instant 1.2.",
        "",
        "- Du kan bruke `Shift + Enter` for å kjøre cellen og gå til neste.",
        "",
        "- Når du når bunnen av en tutorial-side, naviger til neste nummererte fil i mappen, eller til neste nummererte mappe hvis du er ferdig med innholdet innenfor den kapittelfilen.",
        "",
        "### Anthropic SDK og Messages API",
        "Vi vil bruke [Anthropic python SDK](https://docs.anthropic.com/claude/reference/client-sdks) and the [Messages API](https://docs.anthropic.com/claude/reference/messages_post) gjennom hele denne tutorialen. ",
        "",
        "Nedenfor er et eksempel på hvordan det vil se ut å kjøre en prompt i denne tutorialen. Først lager vi `get_completion`, som er en hjelpefunksjon som sender en prompt til Claude og returnerer Claude's genererte svar. Kjør den cellen nå."
      ]
    },
    {
      "cell_type": "code",
      "execution_count": null,
      "metadata": {},
      "outputs": [],
      "source": [
        "import anthropic\n",
        "\n",
        "client = anthropic.Anthropic(api_key=API_KEY)\n",
        "\n",
        "def get_completion(prompt: str):\n",
        "    message = client.messages.create(\n",
        "        model=MODEL_NAME,\n",
        "        max_tokens=2000,\n",
        "        temperature=0.0,\n",
        "        messages=[\n",
        "          {\"role\": \"user\", \"content\": prompt}\n",
        "        ]\n",
        "    )\n",
        "    return message.content[0].text"
      ]
    },
    {
      "cell_type": "markdown",
      "metadata": {},
      "source": [
        "Nå skal vi skrive ut et eksempel prompt for Claude og skrive ut Claude's output ved å kjøre vår `get_completion` hjelpefunksjon. Kjør cellen nedenfor vil skrive ut et svar fra Claude under den.",
        "",
        "Du kan gjerne eksperimentere med prompt-strengen for å få forskjellige svar fra Claude."
      ]
    },
    {
      "cell_type": "code",
      "execution_count": null,
      "metadata": {},
      "outputs": [],
      "source": [
        "# Prompt\n",
        "prompt = \"Hello, Claude!\"\n",
        "\n",
        "# Get Claude's response\n",
        "print(get_completion(prompt))"
      ]
    },
    {
      "cell_type": "markdown",
      "metadata": {},
      "source": [
        "De `API_KEY` and `MODEL_NAME` variabler definert tidligere vil bli brukt gjennom hele tutorialen. Bare sørg for å kjøre cellene for hver tutorial-side fra topp til bunn."
      ]
    }
  ],
  "metadata": {
    "kernelspec": {
      "display_name": "py310",
      "language": "python",
      "name": "python3"
    },
    "language_info": {
      "codemirror_mode": {
        "name": "ipython",
        "version": 3
      },
      "file_extension": ".py",
      "mimetype": "text/x-python",
      "name": "python",
      "nbconvert_exporter": "python",
      "pygments_lexer": "ipython3",
      "version": "3.10.14"
    }
  },
  "nbformat": 4,
  "nbformat_minor": 2
}