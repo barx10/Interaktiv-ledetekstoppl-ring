{
  "cells": [
    {
      "cell_type": "markdown",
      "metadata": {},
      "source": [
        "# Tillegg 10.3: Søk og Henting",
        "",
        "Visste du at du kan bruke Claude to **search through Wikipedia for you**? Claude kan finne og hente artikler, på hvilket tidspunkt du også kan bruke Claude til å oppsummere og syntetisere dem, skrive nytt innhold basert på det den fant, og mye mer. Og ikke bare Wikipedia! Du kan også søke i dine egne dokumenter, enten de er lagret som ren tekst eller i en vektordatabank.",
        "",
        "Se våre [RAG cookbook-eksempler](https://github.com/anthropics/anthropic-cookbook/blob/main/third_party/Wikipedia/wikipedia-search-cookbook.ipynb) for å lære hvordan du kan supplere Claude sin kunnskap og forbedre nøyaktigheten and relevance of Claude's svars med data hentet fra vektordatabaser, Wikipedia, the internet, og mer. Dere, you can also learn about hvordan man bruker visse [embeddings](https://docs.anthropic.com/claude/docs/embeddings) og vektordatabaser.",
        "",
        "Hvis du er interessert i å lære om avanserte RAG-arkitekturer med Claude, se vår [Claude 3 tekniske presentasjon slides om RAG-arkitekturer](https://docs.google.com/presentation/d/1zxkSI7lLUBrZycA-_znwqu8DDyVhHLkQGScvzaZrUns/edit#slide=id.g2c736259dac_63_782)."
      ]
    }
  ],
  "metadata": {
    "language_info": {
      "name": "python"
    }
  },
  "nbformat": 4,
  "nbformat_minor": 2
}